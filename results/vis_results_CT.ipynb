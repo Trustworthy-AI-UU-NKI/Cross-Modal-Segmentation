{
 "cells": [
  {
   "cell_type": "code",
   "execution_count": 1,
   "metadata": {},
   "outputs": [],
   "source": [
    "import matplotlib.pyplot as plt\n",
    "import numpy as np"
   ]
  },
  {
   "cell_type": "markdown",
   "metadata": {},
   "source": [
    "# Results UNet - Full Supervision "
   ]
  },
  {
   "cell_type": "code",
   "execution_count": 7,
   "metadata": {},
   "outputs": [
    {
     "name": "stdout",
     "output_type": "stream",
     "text": [
      "DSC mean:  0.8860199999999999\n",
      "DSC std:  0.011484668040479032\n"
     ]
    }
   ],
   "source": [
    "dsc = np.array([0.8662, 0.901, 0.8876, 0.8918, 0.8835])\n",
    "dsc_mean = np.mean(dsc)\n",
    "dsc_std = np.std(dsc)\n",
    "print(\"DSC mean: \", dsc_mean)\n",
    "print(\"DSC std: \", dsc_std)"
   ]
  },
  {
   "cell_type": "code",
   "execution_count": 15,
   "metadata": {},
   "outputs": [
    {
     "name": "stdout",
     "output_type": "stream",
     "text": [
      "DSC mean:  0.8898199999999999\n",
      "DSC std:  0.009467924799025402\n"
     ]
    }
   ],
   "source": [
    "# Norm\n",
    "dsc = np.array([0.8721, 0.8989, 0.8959, 0.8935, 0.8887])\n",
    "dsc_mean = np.mean(dsc)\n",
    "dsc_std = np.std(dsc)\n",
    "print(\"DSC mean: \", dsc_mean)\n",
    "print(\"DSC std: \", dsc_std)"
   ]
  },
  {
   "cell_type": "markdown",
   "metadata": {},
   "source": [
    "# Results UNet - No Adaptation"
   ]
  },
  {
   "cell_type": "code",
   "execution_count": 8,
   "metadata": {},
   "outputs": [
    {
     "name": "stdout",
     "output_type": "stream",
     "text": [
      "DSC mean:  0.28604\n",
      "DSC std:  0.05329550074818699\n"
     ]
    }
   ],
   "source": [
    "dsc = np.array([0.3307, 0.1844, 0.2881, 0.327, 0.3])\n",
    "dsc_mean = np.mean(dsc)\n",
    "dsc_std = np.std(dsc)\n",
    "print(\"DSC mean: \", dsc_mean)\n",
    "print(\"DSC std: \", dsc_std)"
   ]
  },
  {
   "cell_type": "code",
   "execution_count": 14,
   "metadata": {},
   "outputs": [
    {
     "name": "stdout",
     "output_type": "stream",
     "text": [
      "DSC mean:  0.31332000000000004\n",
      "DSC std:  0.11165366809917174\n"
     ]
    }
   ],
   "source": [
    "# Norm\n",
    "dsc = np.array([0.3179, 0.172, 0.4552, 0.2054, 0.4161])\n",
    "dsc_mean = np.mean(dsc)\n",
    "dsc_std = np.std(dsc)\n",
    "print(\"DSC mean: \", dsc_mean)\n",
    "print(\"DSC std: \", dsc_std)"
   ]
  },
  {
   "cell_type": "markdown",
   "metadata": {},
   "source": [
    "# Results DRIT + UNet"
   ]
  },
  {
   "cell_type": "code",
   "execution_count": 9,
   "metadata": {},
   "outputs": [
    {
     "name": "stdout",
     "output_type": "stream",
     "text": [
      "DSC mean:  0.5297600000000001\n",
      "DSC std:  0.03595189007548838\n"
     ]
    }
   ],
   "source": [
    "dsc = np.array([0.5254, 0.5603, 0.5693, 0.5268, 0.467])\n",
    "dsc_mean = np.mean(dsc)\n",
    "dsc_std = np.std(dsc)\n",
    "print(\"DSC mean: \", dsc_mean)\n",
    "print(\"DSC std: \", dsc_std)\n"
   ]
  },
  {
   "cell_type": "code",
   "execution_count": null,
   "metadata": {},
   "outputs": [],
   "source": [
    "dsc = np.array([])\n",
    "dsc_mean = np.mean(dsc)\n",
    "dsc_std = np.std(dsc)\n",
    "print(\"DSC mean: \", dsc_mean)\n",
    "print(\"DSC std: \", dsc_std)"
   ]
  },
  {
   "cell_type": "markdown",
   "metadata": {},
   "source": [
    "## Results DDFSEG"
   ]
  },
  {
   "cell_type": "code",
   "execution_count": 10,
   "metadata": {},
   "outputs": [
    {
     "name": "stdout",
     "output_type": "stream",
     "text": [
      "DSC mean:  0.6058768175542355\n",
      "DSC std:  0.02409435585759084\n"
     ]
    }
   ],
   "source": [
    "# For reproduce\n",
    "dsc = np.array([0.6151926964521408, 0.5976468175649643, 0.6203856840729713, 0.63283621519804, 0.5633226744830608])\n",
    "mean_dsc = np.mean(dsc) \n",
    "std_dsc = np.std(dsc)\n",
    "print(\"DSC mean: \", mean_dsc)\n",
    "print(\"DSC std: \", std_dsc)\n"
   ]
  },
  {
   "cell_type": "code",
   "execution_count": 2,
   "metadata": {},
   "outputs": [
    {
     "name": "stdout",
     "output_type": "stream",
     "text": [
      "DSC mean:  0.629141841828823\n",
      "DSC std:  0.008117960716633418\n"
     ]
    }
   ],
   "source": [
    "# For newreproduce\n",
    "dsc = np.array([0.6360272020101547, 0.6322795078158379, 0.6200837194919586, 0.618919312953949, 0.6383994668722153])\n",
    "mean_dsc = np.mean(dsc) \n",
    "std_dsc = np.std(dsc)\n",
    "print(\"DSC mean: \", mean_dsc)\n",
    "print(\"DSC std: \", std_dsc)\n"
   ]
  },
  {
   "cell_type": "code",
   "execution_count": 11,
   "metadata": {},
   "outputs": [
    {
     "name": "stdout",
     "output_type": "stream",
     "text": [
      "DSC mean:  0.6175942778587341\n",
      "DSC std:  0.012692710299747865\n"
     ]
    }
   ],
   "source": [
    "# For trialnorm\n",
    "dsc = np.array([0.6372722014784813, 0.6183000281453133, 0.6121003702282906, 0.5983856767416, 0.6219131126999855])\n",
    "mean_dsc = np.mean(dsc)\n",
    "std_dsc = np.std(dsc)\n",
    "print(\"DSC mean: \", mean_dsc)\n",
    "print(\"DSC std: \", std_dsc)"
   ]
  }
 ],
 "metadata": {
  "kernelspec": {
   "display_name": "Python 3",
   "language": "python",
   "name": "python3"
  },
  "language_info": {
   "codemirror_mode": {
    "name": "ipython",
    "version": 3
   },
   "file_extension": ".py",
   "mimetype": "text/x-python",
   "name": "python",
   "nbconvert_exporter": "python",
   "pygments_lexer": "ipython3",
   "version": "3.11.5"
  }
 },
 "nbformat": 4,
 "nbformat_minor": 2
}
