{
 "cells": [
  {
   "cell_type": "code",
   "execution_count": 1,
   "metadata": {},
   "outputs": [],
   "source": [
    "import torch\n",
    "import numpy as np\n",
    "from sklearn.manifold import TSNE\n",
    "import matplotlib.pyplot as plt"
   ]
  },
  {
   "cell_type": "markdown",
   "metadata": {},
   "source": [
    "# Visualize the kernels with t-SNE"
   ]
  },
  {
   "cell_type": "code",
   "execution_count": 2,
   "metadata": {},
   "outputs": [],
   "source": [
    "CT_kernel_dir = '../vMFNet/checkpoints/reconstruct_CT/kernels/init/dictionary/dictionary_12.pickle'\n",
    "MRI_kernel_dir = '../vMFNet/checkpoints/reconstruct_MR/kernels/init/dictionary/dictionary_12.pickle'"
   ]
  },
  {
   "cell_type": "code",
   "execution_count": 3,
   "metadata": {},
   "outputs": [
    {
     "name": "stdout",
     "output_type": "stream",
     "text": [
      "torch.Size([12, 64])\n"
     ]
    }
   ],
   "source": [
    "vc_CT = np.load(CT_kernel_dir, allow_pickle=True)\n",
    "vc_CT = vc_CT[:, :, np.newaxis, np.newaxis]\n",
    "vc_CT = torch.from_numpy(vc_CT).type(torch.FloatTensor).squeeze(-1).squeeze(-1)\n",
    "print(vc_CT.shape)"
   ]
  },
  {
   "cell_type": "code",
   "execution_count": 4,
   "metadata": {},
   "outputs": [
    {
     "name": "stdout",
     "output_type": "stream",
     "text": [
      "torch.Size([12, 64])\n"
     ]
    }
   ],
   "source": [
    "vc_MR = np.load(MRI_kernel_dir, allow_pickle=True)\n",
    "vc_MR = vc_MR[:, :, np.newaxis, np.newaxis]\n",
    "vc_MR = torch.from_numpy(vc_MR).type(torch.FloatTensor).squeeze(-1).squeeze(-1)\n",
    "print(vc_MR.shape)"
   ]
  },
  {
   "cell_type": "markdown",
   "metadata": {},
   "source": [
    "# t-SNE\n"
   ]
  },
  {
   "cell_type": "code",
   "execution_count": 5,
   "metadata": {},
   "outputs": [],
   "source": [
    "vc_CT_embedded = TSNE(n_components=2, learning_rate='auto', init='pca', perplexity=5).fit_transform(vc_CT)"
   ]
  },
  {
   "cell_type": "code",
   "execution_count": null,
   "metadata": {},
   "outputs": [
    {
     "name": "stdout",
     "output_type": "stream",
     "text": [
      "(12, 2)\n",
      "[[-21.23119    -48.829994  ]\n",
      " [ 33.691833    -2.5958664 ]\n",
      " [ 15.36536      2.9147165 ]\n",
      " [ 46.197727   -81.21691   ]\n",
      " [ 61.301716   -74.0877    ]\n",
      " [-28.773645   -32.186035  ]\n",
      " [-21.123262   -98.566086  ]\n",
      " [ 27.196733   -69.33161   ]\n",
      " [ -6.785142    -0.19724575]\n",
      " [-32.493706   -87.11524   ]\n",
      " [-17.95295    -15.279496  ]\n",
      " [ 14.78031    -55.636913  ]]\n"
     ]
    }
   ],
   "source": [
    "print(vc_CT_embedded.shape)\n",
    "print(vc_CT_embedded)"
   ]
  },
  {
   "cell_type": "code",
   "execution_count": null,
   "metadata": {},
   "outputs": [],
   "source": [
    "vc_MR_embedded = TSNE(n_components=2, learning_rate='auto', init='pca', perplexity=5).fit_transform(vc_MR)"
   ]
  },
  {
   "cell_type": "code",
   "execution_count": null,
   "metadata": {},
   "outputs": [],
   "source": [
    "print(vc_MR_embedded.shape)\n",
    "print(vc_MR_embedded)"
   ]
  },
  {
   "cell_type": "code",
   "execution_count": null,
   "metadata": {},
   "outputs": [],
   "source": [
    "# plot the vc_CT_embedded\n",
    "plt.scatter(vc_CT_embedded)\n",
    "plt.show()"
   ]
  },
  {
   "cell_type": "code",
   "execution_count": null,
   "metadata": {},
   "outputs": [],
   "source": [
    "plt.scatter(vc_MR_embedded)\n",
    "plt,show()"
   ]
  }
 ],
 "metadata": {
  "kernelspec": {
   "display_name": "Python 3",
   "language": "python",
   "name": "python3"
  },
  "language_info": {
   "codemirror_mode": {
    "name": "ipython",
    "version": 3
   },
   "file_extension": ".py",
   "mimetype": "text/x-python",
   "name": "python",
   "nbconvert_exporter": "python",
   "pygments_lexer": "ipython3",
   "version": "3.11.5"
  }
 },
 "nbformat": 4,
 "nbformat_minor": 2
}
