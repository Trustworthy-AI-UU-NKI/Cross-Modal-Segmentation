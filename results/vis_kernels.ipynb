{
 "cells": [
  {
   "cell_type": "code",
   "execution_count": 8,
   "metadata": {},
   "outputs": [],
   "source": [
    "import torch\n",
    "import numpy as np\n",
    "from sklearn.manifold import TSNE\n",
    "import matplotlib.pyplot as plt"
   ]
  },
  {
   "cell_type": "markdown",
   "metadata": {},
   "source": [
    "# Visualize the kernels with t-SNE"
   ]
  },
  {
   "cell_type": "code",
   "execution_count": 2,
   "metadata": {},
   "outputs": [],
   "source": [
    "CT_kernel_dir = '../vMFNet/checkpoints/reconstruct_CT/kernels/init/dictionary/dictionary_12.pickle'\n",
    "MRI_kernel_dir = '../vMFNet/checkpoints/reconstruct_MR/kernels/init/dictionary/dictionary_12.pickle'"
   ]
  },
  {
   "cell_type": "code",
   "execution_count": 3,
   "metadata": {},
   "outputs": [
    {
     "name": "stdout",
     "output_type": "stream",
     "text": [
      "torch.Size([12, 64])\n"
     ]
    }
   ],
   "source": [
    "vc_CT = np.load(CT_kernel_dir, allow_pickle=True)\n",
    "vc_CT = vc_CT[:, :, np.newaxis, np.newaxis]\n",
    "vc_CT = torch.from_numpy(vc_CT).type(torch.FloatTensor).squeeze(-1).squeeze(-1)\n",
    "print(vc_CT.shape)"
   ]
  },
  {
   "cell_type": "code",
   "execution_count": 4,
   "metadata": {},
   "outputs": [
    {
     "name": "stdout",
     "output_type": "stream",
     "text": [
      "torch.Size([12, 64])\n"
     ]
    }
   ],
   "source": [
    "vc_MR = np.load(MRI_kernel_dir, allow_pickle=True)\n",
    "vc_MR = vc_MR[:, :, np.newaxis, np.newaxis]\n",
    "vc_MR = torch.from_numpy(vc_MR).type(torch.FloatTensor).squeeze(-1).squeeze(-1)\n",
    "print(vc_MR.shape)"
   ]
  },
  {
   "cell_type": "markdown",
   "metadata": {},
   "source": [
    "# t-SNE\n"
   ]
  },
  {
   "cell_type": "code",
   "execution_count": 5,
   "metadata": {},
   "outputs": [],
   "source": [
    "vc_CT_embedded = TSNE(n_components=2, learning_rate='auto', init='pca', perplexity=5).fit_transform(vc_CT)"
   ]
  },
  {
   "cell_type": "code",
   "execution_count": 6,
   "metadata": {},
   "outputs": [
    {
     "name": "stdout",
     "output_type": "stream",
     "text": [
      "(12, 2)\n",
      "[[   3.144961    41.364746 ]\n",
      " [  67.39081    -75.98076  ]\n",
      " [  84.41619    -41.67461  ]\n",
      " [-120.34192     49.12257  ]\n",
      " [-130.92532     17.659458 ]\n",
      " [  35.672268    57.839558 ]\n",
      " [ -14.05931    -83.21247  ]\n",
      " [ -77.78156     62.38358  ]\n",
      " [  87.83063      3.2153304]\n",
      " [ -27.667542   -54.308804 ]\n",
      " [  69.39774     36.001987 ]\n",
      " [ -47.616077    83.404755 ]]\n"
     ]
    }
   ],
   "source": [
    "print(vc_CT_embedded.shape)\n",
    "print(vc_CT_embedded)"
   ]
  },
  {
   "cell_type": "code",
   "execution_count": 13,
   "metadata": {},
   "outputs": [],
   "source": [
    "vc_MR_embedded = TSNE(n_components=2, learning_rate='auto', init='pca', perplexity=5).fit_transform(vc_MR)"
   ]
  },
  {
   "cell_type": "code",
   "execution_count": 14,
   "metadata": {},
   "outputs": [
    {
     "name": "stdout",
     "output_type": "stream",
     "text": [
      "(12, 2)\n",
      "[[ 41.201286    19.896788  ]\n",
      " [-14.624655   -68.349754  ]\n",
      " [ 21.43292     95.71055   ]\n",
      " [ 41.430065    46.843548  ]\n",
      " [ 17.00366    -24.942482  ]\n",
      " [-27.95789    -53.070267  ]\n",
      " [-33.42242     22.453913  ]\n",
      " [ 33.667492    -1.0122786 ]\n",
      " [-31.910702     3.5551486 ]\n",
      " [ 20.006039    62.522453  ]\n",
      " [  0.62280154 -43.71781   ]\n",
      " [ 37.81572     79.61072   ]]\n"
     ]
    }
   ],
   "source": [
    "print(vc_MR_embedded.shape)\n",
    "print(vc_MR_embedded)"
   ]
  },
  {
   "cell_type": "code",
   "execution_count": 15,
   "metadata": {},
   "outputs": [
    {
     "data": {
      "image/png": "[encoded data removed]",
      "text/plain": [
       "<Figure size 640x480 with 1 Axes>"
      ]
     },
     "metadata": {},
     "output_type": "display_data"
    }
   ],
   "source": [
    "# plot the vc_CT_embedded and vc_MR_embedded\n",
    "plt.scatter(vc_CT_embedded[:, 0], vc_CT_embedded[:, 1])\n",
    "plt.scatter(vc_MR_embedded[:, 0], vc_MR_embedded[:, 1])\n",
    "plt.show()"
   ]
  },
  {
   "cell_type": "code",
   "execution_count": null,
   "metadata": {},
   "outputs": [],
   "source": []
  }
 ],
 "metadata": {
  "kernelspec": {
   "display_name": "Python 3",
   "language": "python",
   "name": "python3"
  },
  "language_info": {
   "codemirror_mode": {
    "name": "ipython",
    "version": 3
   },
   "file_extension": ".py",
   "mimetype": "text/x-python",
   "name": "python",
   "nbconvert_exporter": "python",
   "pygments_lexer": "ipython3",
   "version": "3.11.5"
  }
 },
 "nbformat": 4,
 "nbformat_minor": 2
}
