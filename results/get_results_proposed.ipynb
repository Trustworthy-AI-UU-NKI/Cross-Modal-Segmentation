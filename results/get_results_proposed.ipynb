{
 "cells": [
  {
   "cell_type": "code",
   "execution_count": 1,
   "metadata": {},
   "outputs": [],
   "source": [
    "import matplotlib.pyplot as plt\n",
    "import numpy as np"
   ]
  },
  {
   "cell_type": "markdown",
   "metadata": {},
   "source": [
    "# Proposed fake opt pretrain"
   ]
  },
  {
   "cell_type": "code",
   "execution_count": 6,
   "metadata": {},
   "outputs": [
    {
     "name": "stdout",
     "output_type": "stream",
     "text": [
      "DSC mean:  0.5963799999999999\n",
      "DSC std:  0.0676696800642651\n"
     ]
    }
   ],
   "source": [
    "# Results with fake dsc == 56.8 ± 8.6\n",
    "# Results with lpips -- 59.6 ± 6.8\n",
    "\n",
    "dsc = np.array([0.613, 0.618, 0.6466, 0.6408, 0.4635])\n",
    "dsc_mean = np.mean(dsc)\n",
    "dsc_std = np.std(dsc)\n",
    "print(\"DSC mean: \", dsc_mean)\n",
    "print(\"DSC std: \", dsc_std)"
   ]
  },
  {
   "cell_type": "markdown",
   "metadata": {},
   "source": [
    "# Proposed fake opt"
   ]
  },
  {
   "cell_type": "code",
   "execution_count": 5,
   "metadata": {},
   "outputs": [
    {
     "name": "stdout",
     "output_type": "stream",
     "text": [
      "DSC mean:  0.48606\n",
      "DSC std:  0.08556089293596694\n"
     ]
    }
   ],
   "source": [
    "# Results with fake dsc == 57.1 ± 2.8\n",
    "# Results with lpips == 48.6 ± 8.6\n",
    "\n",
    "dsc = np.array([0.3698, 0.4119, 0.5697, 0.5889, 0.49])\n",
    "dsc_mean = np.mean(dsc)\n",
    "dsc_std = np.std(dsc)\n",
    "print(\"DSC mean: \", dsc_mean)\n",
    "print(\"DSC std: \", dsc_std)"
   ]
  },
  {
   "cell_type": "markdown",
   "metadata": {},
   "source": [
    "# Proposed true opt pretrain"
   ]
  },
  {
   "cell_type": "code",
   "execution_count": 9,
   "metadata": {},
   "outputs": [
    {
     "name": "stdout",
     "output_type": "stream",
     "text": [
      "DSC mean:  0.5297600000000001\n",
      "DSC std:  0.03595189007548838\n"
     ]
    }
   ],
   "source": [
    "# Results with fake dsc == RUNNING\n",
    "# Results with lpips\n",
    "\n",
    "dsc = np.array([])\n",
    "dsc_mean = np.mean(dsc)\n",
    "dsc_std = np.std(dsc)\n",
    "print(\"DSC mean: \", dsc_mean)\n",
    "print(\"DSC std: \", dsc_std)\n"
   ]
  },
  {
   "cell_type": "markdown",
   "metadata": {},
   "source": [
    "# Proposed true opt"
   ]
  },
  {
   "cell_type": "code",
   "execution_count": 3,
   "metadata": {},
   "outputs": [
    {
     "name": "stdout",
     "output_type": "stream",
     "text": [
      "DSC mean:  0.64602\n",
      "DSC std:  0.029528589536244362\n"
     ]
    }
   ],
   "source": [
    "# Results with fake dsc == 61.2 ± 1.4\n",
    "# Results with lpips == 64.6 ± 3.0\n",
    "\n",
    "dsc = np.array([0.6982, 0.6442, 0.6341, 0.6074, 0.6462])\n",
    "dsc_mean = np.mean(dsc)\n",
    "dsc_std = np.std(dsc)\n",
    "print(\"DSC mean: \", dsc_mean)\n",
    "print(\"DSC std: \", dsc_std)\n"
   ]
  },
  {
   "cell_type": "markdown",
   "metadata": {},
   "source": [
    "# proposed true opt Fake kernels "
   ]
  },
  {
   "cell_type": "code",
   "execution_count": 2,
   "metadata": {},
   "outputs": [
    {
     "name": "stdout",
     "output_type": "stream",
     "text": [
      "DSC mean:  0.6221000000000001\n",
      "DSC std:  0.006505997233322494\n"
     ]
    }
   ],
   "source": [
    "# 8 kernels\n",
    "\n",
    "dsc = np.array([0.6161, 0.6274, 0.6156, 0.6194, 0.632])\n",
    "dsc_mean = np.mean(dsc)\n",
    "dsc_std = np.std(dsc)\n",
    "print(\"DSC mean: \", dsc_mean)\n",
    "print(\"DSC std: \", dsc_std)\n"
   ]
  },
  {
   "cell_type": "markdown",
   "metadata": {},
   "source": [
    "# Results DDFSeg"
   ]
  },
  {
   "cell_type": "code",
   "execution_count": null,
   "metadata": {},
   "outputs": [],
   "source": [
    "# MYO \n",
    "# DSC = 24.9 ± 6.1\n",
    "# ASSD = 15.6 ± 5.2\n",
    "dsc = np.array([])\n",
    "dsc_mean = np.mean(dsc)\n",
    "dsc_std = np.std(dsc)\n",
    "print(\"DSC mean: \", dsc_mean)\n",
    "print(\"DSC std: \", dsc_std)\n",
    "\n",
    "assd = np.array([])\n",
    "assd_mean = np.mean(assd)\n",
    "assd_std = np.std(assd)\n",
    "print(\"ASSD mean: \", assd_mean)\n",
    "print(\"ASSD std: \", assd_std)"
   ]
  },
  {
   "cell_type": "code",
   "execution_count": 5,
   "metadata": {},
   "outputs": [
    {
     "name": "stdout",
     "output_type": "stream",
     "text": [
      "DSC mean:  0.3808165268856101\n",
      "DSC std:  0.03574579812734955\n",
      "ASSD mean:  23.862762653827666\n",
      "ASSD std:  1.8391807305907197\n"
     ]
    }
   ],
   "source": [
    "# LV \n",
    "# DSC = \n",
    "# ASSD = \n",
    "dsc = np.array([0.38460396201116964, 0.42852788264281116, 0.39689043385442346, 0.37492898665368557, 0.31913136926596053])\n",
    "dsc_mean = np.mean(dsc)\n",
    "dsc_std = np.std(dsc)\n",
    "print(\"DSC mean: \", dsc_mean)\n",
    "print(\"DSC std: \", dsc_std)\n",
    "\n",
    "assd = np.array([26.732272565364838, 22.307388871908188, 24.452332854270935, 24.342693716287613, 21.479125261306763])\n",
    "assd_mean = np.mean(assd)\n",
    "assd_std = np.std(assd)\n",
    "print(\"ASSD mean: \", assd_mean)\n",
    "print(\"ASSD std: \", assd_std)"
   ]
  },
  {
   "cell_type": "code",
   "execution_count": 4,
   "metadata": {},
   "outputs": [
    {
     "name": "stdout",
     "output_type": "stream",
     "text": [
      "DSC mean:  0.23703114324996477\n",
      "DSC std:  0.13740791718409126\n",
      "ASSD mean:  30.012013110518456\n",
      "ASSD std:  2.46060607022403\n"
     ]
    }
   ],
   "source": [
    "# RV \n",
    "# DSC = \n",
    "# ASSD = \n",
    "dsc = np.array([0.01961800862579821, 0.4389543787110597, 0.27343573537655175, 0.17748607997782528, 0.2756615135585889])\n",
    "dsc_mean = np.mean(dsc)\n",
    "dsc_std = np.std(dsc)\n",
    "print(\"DSC mean: \", dsc_mean)\n",
    "print(\"DSC std: \", dsc_std)\n",
    "\n",
    "assd = np.array([29.877776116132736, 27.504522070288658, 32.98931533098221, 32.587102860212326, 27.10134917497635])\n",
    "assd_mean = np.mean(assd)\n",
    "assd_std = np.std(assd)\n",
    "print(\"ASSD mean: \", assd_mean)\n",
    "print(\"ASSD std: \", assd_std)"
   ]
  },
  {
   "cell_type": "markdown",
   "metadata": {},
   "source": [
    "PROPOSED!!!"
   ]
  },
  {
   "cell_type": "code",
   "execution_count": 2,
   "metadata": {},
   "outputs": [
    {
     "name": "stdout",
     "output_type": "stream",
     "text": [
      "DSC mean:  65.872\n",
      "DSC std:  2.4893003032980965\n",
      "ASSD mean:  3.1195999999999997\n",
      "ASSD std:  0.21136186978733884\n"
     ]
    }
   ],
   "source": [
    "dsc = np.array([65.85, 64.18, 67.98, 69.11, 62.24])\n",
    "dsc_mean = np.mean(dsc)\n",
    "dsc_std = np.std(dsc)\n",
    "print(\"DSC mean: \", dsc_mean)\n",
    "print(\"DSC std: \", dsc_std)\n",
    "\n",
    "assd = np.array([3.015, 2.802, 3.074, 3.359, 3.348])\n",
    "assd_mean = np.mean(assd)\n",
    "assd_std = np.std(assd)\n",
    "print(\"ASSD mean: \", assd_mean)\n",
    "print(\"ASSD std: \", assd_std)"
   ]
  },
  {
   "cell_type": "markdown",
   "metadata": {},
   "source": [
    "New metric - MYO"
   ]
  },
  {
   "cell_type": "code",
   "execution_count": 6,
   "metadata": {},
   "outputs": [
    {
     "name": "stdout",
     "output_type": "stream",
     "text": [
      "DSC mean:  65.128\n",
      "DSC std:  4.843157647650963\n",
      "ASSD mean:  2.9777599999999995\n",
      "ASSD std:  0.5530109170712636\n"
     ]
    }
   ],
   "source": [
    "dsc = np.array([65.55, 74.31, 61.44, 61.25, 63.09])\n",
    "dsc_mean = np.mean(dsc)\n",
    "dsc_std = np.std(dsc)\n",
    "print(\"DSC mean: \", dsc_mean)\n",
    "print(\"DSC std: \", dsc_std)\n",
    "\n",
    "assd = np.array([2.5762, 2.0939, 3.2516, 3.4859, 3.4812])\n",
    "assd_mean = np.mean(assd)\n",
    "assd_std = np.std(assd)\n",
    "print(\"ASSD mean: \", assd_mean)\n",
    "print(\"ASSD std: \", assd_std)"
   ]
  },
  {
   "cell_type": "markdown",
   "metadata": {},
   "source": [
    "New metric - LV"
   ]
  },
  {
   "cell_type": "code",
   "execution_count": 5,
   "metadata": {},
   "outputs": [
    {
     "name": "stdout",
     "output_type": "stream",
     "text": [
      "DSC mean:  79.72799999999998\n",
      "DSC std:  4.798259684510625\n",
      "ASSD mean:  4.6803799999999995\n",
      "ASSD std:  1.4363567139119724\n"
     ]
    }
   ],
   "source": [
    "dsc = np.array([81.1, 88.05, 79.39, 75.27, 74.83])\n",
    "dsc_mean = np.mean(dsc)\n",
    "dsc_std = np.std(dsc)\n",
    "print(\"DSC mean: \", dsc_mean)\n",
    "print(\"DSC std: \", dsc_std)\n",
    "\n",
    "assd = np.array([3.7534, 2.6828, 4.3356, 6.3526, 6.2775])\n",
    "assd_mean = np.mean(assd)\n",
    "assd_std = np.std(assd)\n",
    "print(\"ASSD mean: \", assd_mean)\n",
    "print(\"ASSD std: \", assd_std)"
   ]
  },
  {
   "cell_type": "markdown",
   "metadata": {},
   "source": [
    "New Metric - RV"
   ]
  },
  {
   "cell_type": "code",
   "execution_count": 10,
   "metadata": {},
   "outputs": [
    {
     "name": "stdout",
     "output_type": "stream",
     "text": [
      "DSC mean:  77.28200000000001\n",
      "DSC std:  3.6075664928037057\n",
      "ASSD mean:  5.61666\n",
      "ASSD std:  2.0052192594327427\n"
     ]
    }
   ],
   "source": [
    "dsc = np.array([74.58, 83.65, 73.32, 78.29, 76.57])\n",
    "dsc_mean = np.mean(dsc)\n",
    "dsc_std = np.std(dsc)\n",
    "print(\"DSC mean: \", dsc_mean)\n",
    "print(\"DSC std: \", dsc_std)\n",
    "\n",
    "assd = np.array([9.4554, 3.6224, 4.69, 5.394, 4.9215])\n",
    "assd_mean = np.mean(assd)\n",
    "assd_std = np.std(assd)\n",
    "print(\"ASSD mean: \", assd_mean)\n",
    "print(\"ASSD std: \", assd_std)"
   ]
  },
  {
   "cell_type": "markdown",
   "metadata": {},
   "source": [
    "# New domain shift"
   ]
  },
  {
   "cell_type": "markdown",
   "metadata": {},
   "source": [
    "T2 --> T1"
   ]
  },
  {
   "cell_type": "code",
   "execution_count": 2,
   "metadata": {},
   "outputs": [
    {
     "name": "stdout",
     "output_type": "stream",
     "text": [
      "DSC mean:  65.32333333333334\n",
      "DSC std:  5.8243244720358405\n",
      "ASSD mean:  22.009766666666668\n",
      "ASSD std:  6.284678929127742\n"
     ]
    }
   ],
   "source": [
    "dsc = np.array([61.83, 60.61, 73.53])\n",
    "dsc_mean = np.mean(dsc)\n",
    "dsc_std = np.std(dsc)\n",
    "print(\"DSC mean: \", dsc_mean)\n",
    "print(\"DSC std: \", dsc_std)\n",
    "\n",
    "assd = np.array([22.9692, 29.1822, 13.8779])\n",
    "assd_mean = np.mean(assd)\n",
    "assd_std = np.std(assd)\n",
    "print(\"ASSD mean: \", assd_mean)\n",
    "print(\"ASSD std: \", assd_std)"
   ]
  },
  {
   "cell_type": "markdown",
   "metadata": {},
   "source": [
    "T1 --> T2"
   ]
  },
  {
   "cell_type": "code",
   "execution_count": 4,
   "metadata": {},
   "outputs": [
    {
     "name": "stdout",
     "output_type": "stream",
     "text": [
      "DSC mean:  66.54666666666667\n",
      "DSC std:  2.1293556667582645\n",
      "ASSD mean:  16.695466666666665\n",
      "ASSD std:  3.2665731874380044\n"
     ]
    }
   ],
   "source": [
    "dsc = np.array([69.46, 64.43, 65.75])\n",
    "dsc_mean = np.mean(dsc)\n",
    "dsc_std = np.std(dsc)\n",
    "print(\"DSC mean: \", dsc_mean)\n",
    "print(\"DSC std: \", dsc_std)\n",
    "\n",
    "assd = np.array([12.2263, 17.9173, 19.9428])\n",
    "assd_mean = np.mean(assd)\n",
    "assd_std = np.std(assd)\n",
    "print(\"ASSD mean: \", assd_mean)\n",
    "print(\"ASSD std: \", assd_std)"
   ]
  }
 ],
 "metadata": {
  "kernelspec": {
   "display_name": "Python 3",
   "language": "python",
   "name": "python3"
  },
  "language_info": {
   "codemirror_mode": {
    "name": "ipython",
    "version": 3
   },
   "file_extension": ".py",
   "mimetype": "text/x-python",
   "name": "python",
   "nbconvert_exporter": "python",
   "pygments_lexer": "ipython3",
   "version": "3.11.5"
  }
 },
 "nbformat": 4,
 "nbformat_minor": 2
}
