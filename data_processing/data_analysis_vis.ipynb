{
 "cells": [
  {
   "cell_type": "markdown",
   "metadata": {},
   "source": [
    "## Exploratory analysis of the MM-WHS dataset"
   ]
  },
  {
   "cell_type": "code",
   "execution_count": 25,
   "metadata": {},
   "outputs": [],
   "source": [
    "# imports \n",
    "import numpy as np\n",
    "import os\n",
    "import monai\n",
    "from monai.data import CacheDataset, DataLoader, GridPatchDataset\n",
    "from monai.transforms import (\n",
    "    Compose,\n",
    "    EnsureChannelFirstd,\n",
    "    EnsureTyped,\n",
    "    LoadImaged,\n",
    "    Resized,\n",
    "    ScaleIntensityd,\n",
    "    SqueezeDimd,\n",
    "    SaveImaged,\n",
    "    MapLabelValued,\n",
    ")\n",
    "import itk\n",
    "\n",
    "import matplotlib.pyplot as plt\n",
    "from tqdm import tqdm\n",
    "import glob\n",
    "import torch"
   ]
  },
  {
   "cell_type": "markdown",
   "metadata": {},
   "source": [
    "# Example CT dataset"
   ]
  },
  {
   "cell_type": "code",
   "execution_count": 2,
   "metadata": {},
   "outputs": [],
   "source": [
    "data_dir = \"../MMWHS_Dataset/ct_train\"\n",
    "images = sorted(glob.glob(os.path.join(data_dir, \"ct_train_1001_image.nii.gz\")))\n",
    "labels = sorted(glob.glob(os.path.join(data_dir, \"ct_train_1001_label.nii.gz\")))\n",
    "\n",
    "example_dataset = [{\"img\": img, \"seg\": seg} for img, seg in zip(images, labels)]"
   ]
  },
  {
   "cell_type": "code",
   "execution_count": 3,
   "metadata": {},
   "outputs": [],
   "source": [
    "volume_transforms = Compose(\n",
    "    [\n",
    "        LoadImaged(keys=[\"img\", \"seg\"]),\n",
    "        EnsureChannelFirstd(keys=[\"img\", \"seg\"]),\n",
    "        ScaleIntensityd(keys=\"img\"), # normalization between 0 and 1\n",
    "        EnsureTyped(keys=[\"img\", \"seg\"]),\n",
    "    ]\n",
    ")"
   ]
  },
  {
   "cell_type": "code",
   "execution_count": 4,
   "metadata": {},
   "outputs": [
    {
     "name": "stderr",
     "output_type": "stream",
     "text": [
      "Loading dataset:   0%|          | 0/1 [00:00<?, ?it/s]"
     ]
    },
    {
     "name": "stderr",
     "output_type": "stream",
     "text": [
      "Loading dataset: 100%|██████████| 1/1 [01:03<00:00, 63.42s/it]\n"
     ]
    }
   ],
   "source": [
    "volume_ds_person1 = CacheDataset(data=example_dataset, transform=volume_transforms, cache_rate=1.0, num_workers=4) # experiment with last two parameters\n",
    "check_loader = DataLoader(volume_ds_person1, batch_size=1)\n",
    "check_data = monai.utils.misc.first(check_loader)"
   ]
  },
  {
   "cell_type": "code",
   "execution_count": 5,
   "metadata": {},
   "outputs": [
    {
     "name": "stdout",
     "output_type": "stream",
     "text": [
      "first volume's shape torch.Size([1, 1, 512, 512, 363]) torch.Size([1, 1, 512, 512, 363])\n",
      "image shape torch.Size([1, 512, 512]) label shape torch.Size([1, 512, 512])\n"
     ]
    }
   ],
   "source": [
    "print(\"first volume's shape\", check_data[\"img\"].shape, check_data[\"seg\"].shape)\n",
    "\n",
    "middle_image = check_data[\"img\"][0, :, :, :, 170]\n",
    "middle_label = check_data[\"seg\"][0, :, :, :, 170]\n",
    "print(\"image shape\", middle_image.shape, \"label shape\", middle_label.shape)"
   ]
  },
  {
   "cell_type": "code",
   "execution_count": 21,
   "metadata": {},
   "outputs": [],
   "source": [
    "output_dir = \"/processed/ct_train\""
   ]
  },
  {
   "cell_type": "code",
   "execution_count": 32,
   "metadata": {},
   "outputs": [],
   "source": [
    "patch_func = monai.data.PatchIterd(\n",
    "    keys=[\"img\", \"seg\"],\n",
    "    patch_size=(None, None, 1),  # dynamic first two dimensions\n",
    "    start_pos=(0, 0, 0)\n",
    ")\n",
    "patch_transform = Compose(\n",
    "    [\n",
    "        SqueezeDimd(keys=[\"img\", \"seg\"], dim=-1),  # squeeze the last dim\n",
    "        #Resized(keys=[\"img\", \"seg\"], spatial_size=[224, 224]),\n",
    "        MapLabelValued(keys=[\"seg\"], orig_labels=[205, 420, 500, 550, 600, 820, 850], target_labels=[1, 2, 3, 4, 5 , 6 , 7]),\n",
    "    ]\n",
    ")\n",
    "\n",
    "example_patch_ds = GridPatchDataset(data=volume_ds_person1, patch_iter=patch_func, transform=patch_transform)\n",
    "patch_data_loader = DataLoader(example_patch_ds, batch_size=1, num_workers=2, pin_memory=torch.cuda.is_available())\n"
   ]
  },
  {
   "cell_type": "code",
   "execution_count": 33,
   "metadata": {},
   "outputs": [
    {
     "ename": "AttributeError",
     "evalue": "'MetaTensor' object has no attribute 'UpdateOutputInformation'",
     "output_type": "error",
     "traceback": [
      "\u001b[0;31m---------------------------------------------------------------------------\u001b[0m",
      "\u001b[0;31mAttributeError\u001b[0m                            Traceback (most recent call last)",
      "\u001b[1;32m/home/aeijpe/CrossModal-DRL/data_processing/data_analysis_vis.ipynb Cell 10\u001b[0m line \u001b[0;36m7\n\u001b[1;32m      <a href='vscode-notebook-cell://ssh-remote%2B7b22686f73744e616d65223a22736e656c6c6975732e737572662e6e6c222c2275736572223a226165696a7065227d/home/aeijpe/CrossModal-DRL/data_processing/data_analysis_vis.ipynb#X11sdnNjb2RlLXJlbW90ZQ%3D%3D?line=4'>5</a>\u001b[0m label_name \u001b[39m=\u001b[39m \u001b[39mf\u001b[39m\u001b[39m\"\u001b[39m\u001b[39mct_train_label_\u001b[39m\u001b[39m{\u001b[39;00mi\u001b[39m}\u001b[39;00m\u001b[39m.nii.gz\u001b[39m\u001b[39m\"\u001b[39m\n\u001b[1;32m      <a href='vscode-notebook-cell://ssh-remote%2B7b22686f73744e616d65223a22736e656c6c6975732e737572662e6e6c222c2275736572223a226165696a7065227d/home/aeijpe/CrossModal-DRL/data_processing/data_analysis_vis.ipynb#X11sdnNjb2RlLXJlbW90ZQ%3D%3D?line=5'>6</a>\u001b[0m images, labels \u001b[39m=\u001b[39m batch[\u001b[39m0\u001b[39m][\u001b[39m\"\u001b[39m\u001b[39mimg\u001b[39m\u001b[39m\"\u001b[39m], batch[\u001b[39m0\u001b[39m][\u001b[39m\"\u001b[39m\u001b[39mseg\u001b[39m\u001b[39m\"\u001b[39m]\n\u001b[0;32m----> <a href='vscode-notebook-cell://ssh-remote%2B7b22686f73744e616d65223a22736e656c6c6975732e737572662e6e6c222c2275736572223a226165696a7065227d/home/aeijpe/CrossModal-DRL/data_processing/data_analysis_vis.ipynb#X11sdnNjb2RlLXJlbW90ZQ%3D%3D?line=6'>7</a>\u001b[0m itk\u001b[39m.\u001b[39;49mimwrite(images, os\u001b[39m.\u001b[39;49mpath\u001b[39m.\u001b[39;49mjoin(output_dir, file_name))\n",
      "File \u001b[0;32m~/.conda/envs/gpu_env/lib/python3.11/site-packages/itk/support/extras.py:1166\u001b[0m, in \u001b[0;36mimwrite\u001b[0;34m(image_or_filter, filename, compression, imageio)\u001b[0m\n\u001b[1;32m   1163\u001b[0m \u001b[39mimport\u001b[39;00m \u001b[39mitk\u001b[39;00m\n\u001b[1;32m   1165\u001b[0m img \u001b[39m=\u001b[39m itk\u001b[39m.\u001b[39moutput(image_or_filter)\n\u001b[0;32m-> 1166\u001b[0m img\u001b[39m.\u001b[39;49mUpdateOutputInformation()\n\u001b[1;32m   1167\u001b[0m \u001b[39m# don't put that writer in the automatic pipeline\u001b[39;00m\n\u001b[1;32m   1168\u001b[0m tmp_auto_pipeline \u001b[39m=\u001b[39m auto_pipeline\u001b[39m.\u001b[39mcurrent\n",
      "\u001b[0;31mAttributeError\u001b[0m: 'MetaTensor' object has no attribute 'UpdateOutputInformation'"
     ]
    }
   ],
   "source": [
    "i = 0\n",
    "output_dir = \"/preprocessed/ct_train/\"\n",
    "for batch in patch_data_loader:\n",
    "    file_name = f\"ct_train_image_{i}.nii.gz\"\n",
    "    label_name = f\"ct_train_label_{i}.nii.gz\"\n",
    "    images, labels = batch[0][\"img\"], batch[0][\"seg\"]\n",
    "    itk.imwrite(images, os.path.join(output_dir, file_name))\n",
    "\n",
    "    "
   ]
  },
  {
   "cell_type": "code",
   "execution_count": null,
   "metadata": {},
   "outputs": [],
   "source": [
    "print(\"first image shape\", check_data_patch[\"img\"].shape, check_data_patch[\"seg\"].shape)\n",
    "\n",
    "\n",
    "plt.figure(figsize=(10, 5))\n",
    "plt.subplot(1, 2, 1)\n",
    "plt.axis(\"off\")\n",
    "plt.imshow(middle_image.T, cmap=\"gray\")\n",
    "plt.subplot(1, 2, 2)\n",
    "plt.axis(\"off\")\n",
    "plt.imshow(middle_label.T)\n"
   ]
  }
 ],
 "metadata": {
  "kernelspec": {
   "display_name": "Python 3",
   "language": "python",
   "name": "python3"
  },
  "language_info": {
   "codemirror_mode": {
    "name": "ipython",
    "version": 3
   },
   "file_extension": ".py",
   "mimetype": "text/x-python",
   "name": "python",
   "nbconvert_exporter": "python",
   "pygments_lexer": "ipython3",
   "version": "3.11.5"
  }
 },
 "nbformat": 4,
 "nbformat_minor": 2
}
