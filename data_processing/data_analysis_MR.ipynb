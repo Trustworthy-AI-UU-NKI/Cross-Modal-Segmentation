{
 "cells": [
  {
   "cell_type": "markdown",
   "metadata": {},
   "source": [
    "## Exploratory analysis of the MM-WHS dataset"
   ]
  },
  {
   "cell_type": "code",
   "execution_count": 1,
   "metadata": {},
   "outputs": [],
   "source": [
    "# imports \n",
    "import numpy as np\n",
    "import os\n",
    "import monai\n",
    "from monai.data import CacheDataset, DataLoader, GridPatchDataset\n",
    "from monai.transforms import (\n",
    "    Compose,\n",
    "    EnsureChannelFirstd,\n",
    "    EnsureTyped,\n",
    "    LoadImaged,\n",
    "    Resized,\n",
    "    ScaleIntensityd,\n",
    "    SqueezeDimd,\n",
    "    MapLabelValued,\n",
    "    LoadImage,\n",
    "    SpatialPadd,\n",
    ")\n",
    "\n",
    "import matplotlib.pyplot as plt\n",
    "import glob\n",
    "import torch\n",
    "import SimpleITK as sitk\n",
    "import random"
   ]
  },
  {
   "cell_type": "markdown",
   "metadata": {},
   "source": [
    "# Example MR dataset"
   ]
  },
  {
   "cell_type": "code",
   "execution_count": 2,
   "metadata": {},
   "outputs": [
    {
     "name": "stdout",
     "output_type": "stream",
     "text": [
      "1\n"
     ]
    }
   ],
   "source": [
    "data_dir = \"../MMWHS_Dataset/mr_train\"\n",
    "images = sorted(glob.glob(os.path.join(data_dir, \"mr_train_1001_image.nii.gz\")))\n",
    "labels = sorted(glob.glob(os.path.join(data_dir, \"mr_train_1001_label.nii.gz\")))\n",
    "\n",
    "example_dataset = [{\"img\": img, \"seg\": seg} for img, seg in zip(images, labels)]\n",
    "print(len(example_dataset))"
   ]
  },
  {
   "cell_type": "code",
   "execution_count": 103,
   "metadata": {},
   "outputs": [
    {
     "name": "stdout",
     "output_type": "stream",
     "text": [
      "['../MMWHS_Dataset/mr_train/mr_train_1001_image.nii.gz', '../MMWHS_Dataset/mr_train/mr_train_1014_image.nii.gz', '../MMWHS_Dataset/mr_train/mr_train_1003_image.nii.gz', '../MMWHS_Dataset/mr_train/mr_train_1006_image.nii.gz', '../MMWHS_Dataset/mr_train/mr_train_1012_image.nii.gz', '../MMWHS_Dataset/mr_train/mr_train_1020_image.nii.gz', '../MMWHS_Dataset/mr_train/mr_train_1005_image.nii.gz', '../MMWHS_Dataset/mr_train/mr_train_1017_image.nii.gz', '../MMWHS_Dataset/mr_train/mr_train_1018_image.nii.gz', '../MMWHS_Dataset/mr_train/mr_train_1002_image.nii.gz', '../MMWHS_Dataset/mr_train/mr_train_1019_image.nii.gz', '../MMWHS_Dataset/mr_train/mr_train_1010_image.nii.gz', '../MMWHS_Dataset/mr_train/mr_train_1016_image.nii.gz', '../MMWHS_Dataset/mr_train/mr_train_1009_image.nii.gz', '../MMWHS_Dataset/mr_train/mr_train_1015_image.nii.gz', '../MMWHS_Dataset/mr_train/mr_train_1011_image.nii.gz']\n",
      "['../MMWHS_Dataset/mr_train/mr_train_1008_image.nii.gz', '../MMWHS_Dataset/mr_train/mr_train_1013_image.nii.gz']\n",
      "['../MMWHS_Dataset/mr_train/mr_train_1007_image.nii.gz', '../MMWHS_Dataset/mr_train/mr_train_1004_image.nii.gz']\n"
     ]
    }
   ],
   "source": [
    "all_images = sorted(glob.glob(os.path.join(data_dir, \"mr_train_*_image.nii.gz\")))\n",
    "random.shuffle(all_images)\n",
    "train_images = all_images[:16]\n",
    "len(train_images)\n",
    "val_images = all_images[16:18]\n",
    "len(val_images)\n",
    "test_images = all_images[18:]\n",
    "len(test_images)\n",
    "print(train_images)\n",
    "print(val_images)\n",
    "print(test_images)"
   ]
  },
  {
   "cell_type": "code",
   "execution_count": 3,
   "metadata": {},
   "outputs": [],
   "source": [
    "volume_transforms = Compose(\n",
    "    [\n",
    "        LoadImaged(keys=[\"img\", \"seg\"]),\n",
    "        EnsureChannelFirstd(keys=[\"img\", \"seg\"]),\n",
    "        ScaleIntensityd(keys=\"img\"), # normalization between 0 and 1\n",
    "        EnsureTyped(keys=[\"img\", \"seg\"]),\n",
    "    ]\n",
    ")"
   ]
  },
  {
   "cell_type": "code",
   "execution_count": 4,
   "metadata": {},
   "outputs": [
    {
     "name": "stderr",
     "output_type": "stream",
     "text": [
      "Loading dataset:   0%|          | 0/1 [00:00<?, ?it/s]"
     ]
    },
    {
     "name": "stderr",
     "output_type": "stream",
     "text": [
      "Loading dataset: 100%|██████████| 1/1 [00:23<00:00, 23.73s/it]\n"
     ]
    }
   ],
   "source": [
    "volume_ds_person1 = CacheDataset(data=example_dataset, transform=volume_transforms, cache_rate=1.0, num_workers=4) # experiment with last two parameters\n",
    "check_loader = DataLoader(volume_ds_person1, batch_size=1)\n",
    "check_data = monai.utils.misc.first(check_loader)"
   ]
  },
  {
   "cell_type": "code",
   "execution_count": 106,
   "metadata": {},
   "outputs": [
    {
     "name": "stdout",
     "output_type": "stream",
     "text": [
      "first volume's shape torch.Size([1, 1, 288, 288, 160]) torch.Size([1, 1, 288, 288, 160])\n",
      "image shape torch.Size([1, 288, 288]) label shape torch.Size([1, 288, 288])\n"
     ]
    }
   ],
   "source": [
    "print(\"first volume's shape\", check_data[\"img\"].shape, check_data[\"seg\"].shape)\n",
    "\n",
    "middle_image = check_data[\"img\"][0, :, :, :, 70]\n",
    "middle_label = check_data[\"seg\"][0, :, :, :, 70]\n",
    "print(\"image shape\", middle_image.shape, \"label shape\", middle_label.shape)"
   ]
  },
  {
   "cell_type": "code",
   "execution_count": 10,
   "metadata": {},
   "outputs": [],
   "source": [
    "patch_func = monai.data.PatchIterd(\n",
    "    keys=[\"img\", \"seg\"],\n",
    "    patch_size=(None, 1, None),  # dynamic first two dimensions\n",
    "    start_pos=(0, 0, 0)\n",
    ")\n",
    "patch_transform = Compose(\n",
    "    [\n",
    "        SqueezeDimd(keys=[\"img\", \"seg\"], dim=0),  # squeeze the last dim\n",
    "        #Resized(keys=[\"img\", \"seg\"], spatial_size=[512, 1, 512]),\n",
    "        #SpatialPadd(keys=[\"img\", \"seg\"], spatial_size=[256, 1, 256]),\n",
    "        MapLabelValued(keys=[\"seg\"], orig_labels=[205, 420, 500, 550, 600, 820, 850], target_labels=[1, 2, 3, 4, 5 , 6 , 7]),\n",
    "    ]\n",
    ")\n",
    "\n",
    "example_patch_ds = GridPatchDataset(data=volume_ds_person1, patch_iter=patch_func, transform=patch_transform)\n",
    "patch_data_loader = DataLoader(example_patch_ds, batch_size=1, num_workers=2, pin_memory=torch.cuda.is_available())\n"
   ]
  },
  {
   "cell_type": "code",
   "execution_count": 15,
   "metadata": {},
   "outputs": [
    {
     "name": "stdout",
     "output_type": "stream",
     "text": [
      "torch.Size([1, 512, 160])\n",
      "torch.Size([1, 512, 160])\n",
      "Total number of slices: 266\n"
     ]
    }
   ],
   "source": [
    "i = 0\n",
    "current_directory = os.getcwd()\n",
    "output_dir_image = \"preprocessed/mr_examples/images\"\n",
    "output_dir_label = \"preprocessed/mr_examples/labels\"\n",
    "\n",
    "os.makedirs(output_dir_image, exist_ok=True)\n",
    "os.makedirs(output_dir_label, exist_ok=True)\n",
    "j = 0\n",
    "for batch in patch_data_loader:\n",
    "    image, label = batch[0][\"img\"], batch[0][\"seg\"]\n",
    "    j += 1\n",
    "    if j > 265:\n",
    "        image = image.squeeze(2)\n",
    "        label = label.squeeze(2)\n",
    "        print(image.shape)\n",
    "        print(label.shape)\n",
    "        # Convert the torch tensor to a SimpleITK image\n",
    "        slice_image = sitk.GetImageFromArray(image)\n",
    "        slice_label = sitk.GetImageFromArray(label)\n",
    "        # # Save the 2D slice as a NIfTI file\n",
    "        sitk.WriteImage(slice_image, os.path.join(output_dir_image, f\"axial_pad.nii.gz\"))\n",
    "        sitk.WriteImage(slice_label, os.path.join(output_dir_label, f\"axial_pad.nii.gz\"))\n",
    "        \n",
    "        break\n",
    "\n",
    "print(\"Total number of slices:\", j)\n",
    "\n",
    "    "
   ]
  },
  {
   "cell_type": "code",
   "execution_count": 16,
   "metadata": {},
   "outputs": [
    {
     "name": "stdout",
     "output_type": "stream",
     "text": [
      "image data shape: torch.Size([160, 512, 1])\n",
      "label data shape: torch.Size([160, 512, 1])\n"
     ]
    }
   ],
   "source": [
    "filename = \"preprocessed/mr_examples/images/axial_pad.nii.gz\"\n",
    "example_im = LoadImage(image_only=True, ensure_channel_first=True, simple_keys=True)(filename).squeeze(0).squeeze(0)\n",
    "print(f\"image data shape: {example_im.shape}\")\n",
    "\n",
    "filename = \"preprocessed/mr_examples/labels/axial_pad.nii.gz\"\n",
    "example_label = LoadImage(image_only=True, ensure_channel_first=True, simple_keys=True)(filename).squeeze(0).squeeze(0)\n",
    "print(f\"label data shape: {example_label.shape}\")"
   ]
  },
  {
   "cell_type": "code",
   "execution_count": 17,
   "metadata": {},
   "outputs": [
    {
     "data": {
      "text/plain": [
       "<matplotlib.image.AxesImage at 0x14e63d801310>"
      ]
     },
     "execution_count": 17,
     "metadata": {},
     "output_type": "execute_result"
    },
    {
     "data": {
      "image/png": "[encoded data removed]",
      "text/plain": [
       "<Figure size 1000x500 with 2 Axes>"
      ]
     },
     "metadata": {},
     "output_type": "display_data"
    }
   ],
   "source": [
    "plt.figure(figsize=(10, 5))\n",
    "plt.subplot(1, 2, 1)\n",
    "plt.axis(\"off\")\n",
    "plt.imshow(example_im, cmap=\"gray\")\n",
    "plt.subplot(1, 2, 2)\n",
    "plt.axis(\"off\")\n",
    "plt.imshow(example_label)\n"
   ]
  }
 ],
 "metadata": {
  "kernelspec": {
   "display_name": "Python 3",
   "language": "python",
   "name": "python3"
  },
  "language_info": {
   "codemirror_mode": {
    "name": "ipython",
    "version": 3
   },
   "file_extension": ".py",
   "mimetype": "text/x-python",
   "name": "python",
   "nbconvert_exporter": "python",
   "pygments_lexer": "ipython3",
   "version": "3.11.5"
  }
 },
 "nbformat": 4,
 "nbformat_minor": 2
}
